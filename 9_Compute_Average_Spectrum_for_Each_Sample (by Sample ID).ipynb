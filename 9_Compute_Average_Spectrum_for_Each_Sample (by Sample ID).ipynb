{
 "cells": [
  {
   "cell_type": "markdown",
   "id": "b745fcb7",
   "metadata": {},
   "source": [
    "# ** Compute Average Spectrum for Each Sample (by Sample ID) **\n",
    "\n",
    "<div style=\"margin-top:10px; text-align:justify\";>This function averages the replicate spectra for each sample in your dataset.\n",
    "\n",
    "<br>💡How it works:</br>\n",
    "\n",
    "- Groups all replicate columns by sample ID.\n",
    "\n",
    "- Calculates the mean spectrum for each sample (i.e. the average intensity across all replicates at each wavelength)\n",
    "\n",
    "- Creates a new DataFrame with:\n",
    "\n",
    "    - One \"wavelength\" column\n",
    "\n",
    "    - One column per sample, with its average spectrum\n",
    "\n",
    "✅ Why it’s useful:\n",
    "- Reduces random noise by averaging replicates\n",
    "\n",
    "- Prepares data for visualisation or machine learning\n",
    "\n",
    "- Makes the dataset more compact and easy to interpret\n",
    "\n",
    "</div>"
   ]
  },
  {
   "cell_type": "code",
   "execution_count": null,
   "id": "a5942eb8",
   "metadata": {},
   "outputs": [],
   "source": [
    "def natural_key(text):\n",
    "    return [int(s) if s.isdigit() else s.lower() for s in re.split(r'(\\d+)', text)]\n",
    "\n",
    "def average_intensity_by_sample(df):\n",
    "  \n",
    "    measurements = df.columns[1:]  # skip 'wavelength'\n",
    "    sample_names = sorted(set(col.split('_')[0] for col in measurements), key=natural_key)\n",
    "\n",
    "    averaged_dfs = []\n",
    "    for sample in sample_names:\n",
    "        matching_cols = [col for col in measurements if col.startswith(f\"{sample}_\")]\n",
    "        averaged = df[matching_cols].mean(axis=1)\n",
    "        averaged_dfs.append(averaged.rename(sample))\n",
    "\n",
    "    return pd.concat([df[[\"wavelength\"]]] + averaged_dfs, axis=1)\n",
    "\n",
    "SAMPLE_Averaged_full_df = average_intensity_by_sample(SAMPLE_SNV_all_df)\n",
    "SAMPLE_Averaged_full_df = average_intensity_by_sample(SAMPLE_MSC_all_df)\n",
    "SAMPLE_Averaged_full_df = average_intensity_by_sample(SAMPLE_TSN_all_df)\n",
    "# SAMPLE_Averaged_full_df\n",
    "# SAMPLE_Averaged_full_df.to_csv(\"Friederaveraged_SNV.csv\", index=False)"
   ]
  }
 ],
 "metadata": {
  "kernelspec": {
   "display_name": "Python 3 (ipykernel)",
   "language": "python",
   "name": "python3"
  },
  "language_info": {
   "codemirror_mode": {
    "name": "ipython",
    "version": 3
   },
   "file_extension": ".py",
   "mimetype": "text/x-python",
   "name": "python",
   "nbconvert_exporter": "python",
   "pygments_lexer": "ipython3",
   "version": "3.11.5"
  }
 },
 "nbformat": 4,
 "nbformat_minor": 5
}
