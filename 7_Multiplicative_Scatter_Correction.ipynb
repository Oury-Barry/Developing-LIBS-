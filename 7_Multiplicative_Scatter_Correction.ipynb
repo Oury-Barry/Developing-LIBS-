{
 "cells": [
  {
   "cell_type": "markdown",
   "id": "8ba3fb46",
   "metadata": {},
   "source": [
    "# ** Multiplicative Scatter Correction (MSC) Method **\n",
    "<dv style=\"margin-tope=10px; text-align:justify\">\n",
    "\n",
    "MSC is a spectral preprocessing method that corrects for scattering effects and baseline shifts in spectral data. \n",
    "\n",
    "💡 It works as follows:\n",
    "\n",
    "- Uses the median spectrum across all samples as a reference\n",
    "\n",
    "- For each individual spectrum (each column excluding 'wavelength'):\n",
    "\n",
    "- Fits a linear regression model between the sample spectrum and the reference spectrum\n",
    "\n",
    "- Computes the slope and intercept of this fit\n",
    "\n",
    "- Adjusts the sample by subtracting the intercept and dividing by the slope\n",
    "\n",
    "- Keeps the 'wavelength' column unchanged\n",
    "\n",
    "- Returns a new DataFrame with corrected spectra\n",
    "    \n",
    "📌 Why it’s important:\n",
    "    \n",
    "MSC reduces differences caused by scattering or baseline shifts, making the spectra more consistent and reliable for further analysis like PCA or regression.\n",
    "</div>\n"
   ]
  },
  {
   "cell_type": "code",
   "execution_count": null,
   "id": "dcde3c38",
   "metadata": {},
   "outputs": [],
   "source": [
    "import numpy as np\n",
    "import pandas as pd\n",
    "def multiplicative_scatter_correction(df):\n",
    "\n",
    "    corrected = df.copy()\n",
    "    wavelengths = corrected.iloc[:, 0]          # keep 'wavelength' column\n",
    "    spectra = corrected.iloc[:, 1:]             # all spectral columns\n",
    "\n",
    "    # Reference spectrum = median across samples for each wavelength\n",
    "    reference = spectra.median(axis=1)\n",
    "\n",
    "    # Apply MSC to each column (sample replicate)\n",
    "    for col in spectra.columns:\n",
    "        sample = spectra[col]\n",
    "        slope, intercept = np.polyfit(reference, sample, 1)\n",
    "        corrected[col] = (sample - intercept) / slope\n",
    "\n",
    "    corrected.iloc[:, 0] = wavelengths  # restore wavelength column\n",
    "    return corrected\n",
    "SAMPLE_MSC_df = multiplicative_scatter_correction(SAMPLE_BaselineCorrected_all_df)\n",
    "# SAMPLE_MSC_df\n",
    "# SAMPLE_MSC_df.to_csv(\"MultMSC.csv\", index=False)"
   ]
  }
 ],
 "metadata": {
  "kernelspec": {
   "display_name": "Python 3 (ipykernel)",
   "language": "python",
   "name": "python3"
  },
  "language_info": {
   "codemirror_mode": {
    "name": "ipython",
    "version": 3
   },
   "file_extension": ".py",
   "mimetype": "text/x-python",
   "name": "python",
   "nbconvert_exporter": "python",
   "pygments_lexer": "ipython3",
   "version": "3.11.5"
  }
 },
 "nbformat": 4,
 "nbformat_minor": 5
}
