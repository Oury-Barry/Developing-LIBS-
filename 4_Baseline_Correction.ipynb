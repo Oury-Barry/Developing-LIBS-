{
 "cells": [
  {
   "cell_type": "markdown",
   "id": "2be6b3f2",
   "metadata": {},
   "source": [
    "# ** Baseline Correction **\n",
    "\n",
    "<div style=\"margin-top: 10px; text-align:justify\">This function applies baseline correction to all spectra using the asymmetric least squares (ALS) method. It removes background noise from each measurement so the real signal stands out more clearly.\n",
    "    \n",
    "\n",
    "<br>💡 What the code does:</br>\n",
    "\n",
    "- Loops through each spectral column (ignores the wavelength column)\n",
    "\n",
    "- Uses the AsLS algorithm to estimate and subtract the baseline\n",
    "\n",
    "- Clips negative values to zero (intensity can't be negative)\n",
    "\n",
    "- Returns a new DataFrame with all corrected spectra\n",
    "\n",
    "📌 Why it’s important:\n",
    "- Raw LIBS spectra often contain background signals\n",
    "\n",
    "- Baseline correction improves model performance and clarity\n",
    "\n",
    "- Essential before applying normalization or machine learning\n",
    "</div>"
   ]
  },
  {
   "cell_type": "code",
   "execution_count": 2,
   "id": "8f59ea90",
   "metadata": {},
   "outputs": [],
   "source": [
    "def baseline_correction_fixed(df):\n",
    "    \n",
    "    corrected_columns = []\n",
    "    for col in df.columns:\n",
    "        if col != 'wavelength':\n",
    "            baseline, _ = pl.asls(df[col])\n",
    "            corrected = (df[col] - baseline).clip(lower=0)\n",
    "            corrected_columns.append(corrected.rename(col))\n",
    "    \n",
    "    return pd.concat([df[['wavelength']]] + corrected_columns, axis=1)\n",
    "\n",
    "# Apply correction\n",
    "SAMPLE_BaselineCorrected_all_df = baseline_correction_fixed(SAMPLE_Raw_df)\n",
    "# SAMPLE_BaselineCorrected_all_df"
   ]
  }
 ],
 "metadata": {
  "kernelspec": {
   "display_name": "Python 3 (ipykernel)",
   "language": "python",
   "name": "python3"
  },
  "language_info": {
   "codemirror_mode": {
    "name": "ipython",
    "version": 3
   },
   "file_extension": ".py",
   "mimetype": "text/x-python",
   "name": "python",
   "nbconvert_exporter": "python",
   "pygments_lexer": "ipython3",
   "version": "3.11.5"
  }
 },
 "nbformat": 4,
 "nbformat_minor": 5
}
