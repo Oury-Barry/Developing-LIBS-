{
 "cells": [
  {
   "cell_type": "markdown",
   "id": "6a1d6983",
   "metadata": {},
   "source": [
    "# ** Total Sum Normalisation (TSN) Method **\n",
    "<div style=\"margin-top:10px; text-align:justify\";>\n",
    "This function scales each spectrum so that the sum of all its intensity values equals one (or a constant). It adjusts each intensity by dividing by the total intensity sum of that spectrum, normalizing for differences in overall signal magnitude across samples.\n",
    "\n",
    "<br>💡 What the code does:</br>\n",
    "\n",
    "It:\n",
    "\n",
    "- Leaves the 'wavelength' column unchanged\n",
    "\n",
    "- For each spectrum (column), calculates the sum of all intensities\n",
    "\n",
    "- Divides each intensity value by this total sum\n",
    "\n",
    "- Skips normalization for spectra where the total sum is zero (to avoid division errors) and keeps them unchanged\n",
    "\n",
    "- Returns a new DataFrame with normalized spectra\n",
    "\n",
    "📌 Why it’s important:\n",
    "Total Sum Normalization (TSN) helps to adjust for differences in overall intensity between samples, making spectra comparable even if they have different total signal strengths. This is useful before performing any multivariate analysis or modeling.</div>"
   ]
  },
  {
   "cell_type": "code",
   "execution_count": null,
   "id": "62d655ca",
   "metadata": {},
   "outputs": [],
   "source": [
    "def total_sum_normalization(df):\n",
    "    normalized_df = df.copy()\n",
    "    zero_sum_columns = []\n",
    "\n",
    "    for col in df.columns[1:]:\n",
    "        total_intensity = df[col].sum()\n",
    "        if total_intensity == 0:\n",
    "            zero_sum_columns.append(col)\n",
    "            normalized_df[col] = df[col]  # Preserve zero vector\n",
    "        else:\n",
    "            normalized_df[col] = df[col] / total_intensity\n",
    "\n",
    "    if zero_sum_columns:\n",
    "        print(f\"[INFO] Skipped normalization for columns with zero total intensity: {zero_sum_columns}\")\n",
    "\n",
    "    return normalized_df\n",
    "\n",
    "TSN_Normalised = (SAMPLE_BaselineCorrected_all_df)\n",
    "# TSN_Normalised\n",
    "# TSN_Normalised.to_csv(\"TINNormalized.csv\", index=False)"
   ]
  }
 ],
 "metadata": {
  "kernelspec": {
   "display_name": "Python 3 (ipykernel)",
   "language": "python",
   "name": "python3"
  },
  "language_info": {
   "codemirror_mode": {
    "name": "ipython",
    "version": 3
   },
   "file_extension": ".py",
   "mimetype": "text/x-python",
   "name": "python",
   "nbconvert_exporter": "python",
   "pygments_lexer": "ipython3",
   "version": "3.11.5"
  }
 },
 "nbformat": 4,
 "nbformat_minor": 5
}
