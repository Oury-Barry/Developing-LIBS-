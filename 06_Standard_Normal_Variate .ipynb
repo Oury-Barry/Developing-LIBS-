{
 "cells": [
  {
   "cell_type": "markdown",
   "id": "70881ef9",
   "metadata": {},
   "source": [
    "# ** Standard Normal Variate Normalisation Method **\n",
    "<div style=\"margin-top:10px; text-align:justify\";>This function applies Standard Normal Variate (SNV) normalization to all spectra in the dataset. It standardizes each individual spectrum by centering and scaling it.\n",
    "\n",
    "<br>💡 What the code does:</br>\n",
    "\n",
    "For every spectrum (column, excluding wavelength), it:\n",
    "\n",
    "- Calculates the mean of all intensity values in that spectrum\n",
    "\n",
    "- Calculates the standard deviation of those intensity values\n",
    "\n",
    "- Applies SNV to each intensity value in the spectrum:\n",
    "\n",
    "- Keeps the 'wavelength' column untouched\n",
    "\n",
    "- Returns a new DataFrame with normalized spectra\n",
    "\n",
    "📌 Why it’s important:\n",
    "\n",
    "- SNV helps remove scatter effects and intensity bias between measurements\n",
    "\n",
    "- Makes spectra comparable even if they were measured under slightly different conditions\n",
    "\n",
    "- Useful before multivariate modeling like PCA or regression\n",
    "</div>"
   ]
  },
  {
   "cell_type": "code",
   "execution_count": null,
   "id": "c7cbae86",
   "metadata": {},
   "outputs": [],
   "source": [
    "def apply_snv(df):\n",
    "   \n",
    "    df_snv = df.copy()\n",
    "    for col in df.columns:\n",
    "        if col != \"wavelength\":\n",
    "            spectrum = df[col]\n",
    "            mean = spectrum.mean()\n",
    "            std = spectrum.std()\n",
    "            df_snv[col] = (spectrum - mean) / std if std != 0 else 0\n",
    "    return df_snv\n",
    "\n",
    "SAMPLE_SNV_all_df = apply_snv(SAMPLE_BaselineCorrected_all_df)\n",
    "# SAMPLE_SNV_all_df\n",
    "# SAMPLE_SNV_all_df.to_csv(\"SampleNormlized.csv\", index=False)"
   ]
  }
 ],
 "metadata": {
  "kernelspec": {
   "display_name": "Python 3 (ipykernel)",
   "language": "python",
   "name": "python3"
  },
  "language_info": {
   "codemirror_mode": {
    "name": "ipython",
    "version": 3
   },
   "file_extension": ".py",
   "mimetype": "text/x-python",
   "name": "python",
   "nbconvert_exporter": "python",
   "pygments_lexer": "ipython3",
   "version": "3.11.5"
  }
 },
 "nbformat": 4,
 "nbformat_minor": 5
}
